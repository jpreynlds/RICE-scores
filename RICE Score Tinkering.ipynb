{
 "cells": [
  {
   "cell_type": "code",
   "execution_count": 291,
   "id": "2e62e556-38a0-4038-b258-0347ea4edc23",
   "metadata": {},
   "outputs": [],
   "source": [
    "import pandas as pd\n",
    "import statistics\n",
    "import numpy as np"
   ]
  },
  {
   "cell_type": "code",
   "execution_count": 292,
   "id": "6923d533-a137-4ed1-8682-5d027b066f9d",
   "metadata": {},
   "outputs": [
    {
     "name": "stdout",
     "output_type": "stream",
     "text": [
      "  product  reach  impact  confidence  effort   RICE  main_tech_dep  \\\n",
      "0      P1    170       1         0.8       4   34.0              1   \n",
      "1      P2    200       3         0.5       3  100.0              2   \n",
      "2      P3    220       3         0.5       2  165.0              1   \n",
      "3      P4     40       3         0.8       5   19.2              4   \n",
      "4      P5    500       3         0.3       2  225.0              2   \n",
      "\n",
      "   tech_dep_2  tech_dep_3  \n",
      "0         2.0         NaN  \n",
      "1         5.0         3.0  \n",
      "2         3.0         4.0  \n",
      "3         5.0         2.0  \n",
      "4         NaN         NaN  \n"
     ]
    }
   ],
   "source": [
    "#Import the cvs file as a data frame\n",
    "rice_scores = pd.read_csv('rice_scores.csv')\n",
    "\n",
    "print(rice_scores.head())"
   ]
  },
  {
   "cell_type": "code",
   "execution_count": 298,
   "id": "83003a00-0c47-4ce9-ae6b-d99a7489c03b",
   "metadata": {},
   "outputs": [
    {
     "name": "stdout",
     "output_type": "stream",
     "text": [
      "  product  reach  impact  confidence  effort        RICE  main_tech_dep  \\\n",
      "0      P1    170       1         0.8       4   34.000000              1   \n",
      "1      P2    200       3         0.5       3  100.000000              2   \n",
      "2      P3    220       3         0.5       2  165.000000              1   \n",
      "3      P4     40       3         0.8       5   19.200000              4   \n",
      "4      P5    500       3         0.3       2  225.000000              2   \n",
      "5      P6     80       3         0.5       2   60.000000              1   \n",
      "6      P7    300       1         0.8       1  240.000000              5   \n",
      "7      P8    120       2         0.3       1   72.000000              3   \n",
      "8      P9     25       3         0.5       2   18.750000              5   \n",
      "9     P10    200       2         0.5       3   66.666667              5   \n",
      "\n",
      "   tech_dep_2  tech_dep_3  \n",
      "0         2.0         NaN  \n",
      "1         5.0         3.0  \n",
      "2         3.0         4.0  \n",
      "3         5.0         2.0  \n",
      "4         NaN         NaN  \n",
      "5         5.0         NaN  \n",
      "6         3.0         1.0  \n",
      "7         2.0         4.0  \n",
      "8         3.0         2.0  \n",
      "9         2.0         1.0  \n"
     ]
    }
   ],
   "source": [
    "#Rename columns to have no spaces, all lower case\n",
    "rice_scores = rice_scores.rename(columns={'Product': 'product', 'Reach': 'reach', 'Impact':'impact',\n",
    "                                         'Confidence':'confidence', 'Effort':'effort', 'Main Tech Dep':'main_tech_dep',\n",
    "                                          'Tech Dep 2':'tech_dep_2', 'Tech Dep 3':'tech_dep_3'})\n",
    "\n",
    "#Add a column for the actual RICE score of each product. Reorder columns so RICE comes before tech dependencies\n",
    "rice_scores['RICE'] = (rice_scores.reach * rice_scores.impact * rice_scores.confidence)/rice_scores.effort\n",
    "rice_scores = rice_scores[['product', 'reach', 'impact', 'confidence', 'effort', 'RICE', 'main_tech_dep', 'tech_dep_2', 'tech_dep_3']]\n",
    "\n",
    "print(rice_scores)"
   ]
  },
  {
   "cell_type": "code",
   "execution_count": 299,
   "id": "7dacd542-4d91-47d2-90c9-a443ab793a45",
   "metadata": {},
   "outputs": [
    {
     "name": "stdout",
     "output_type": "stream",
     "text": [
      "   tech dependent_1 dependent_2 dependent_3 dependent_4 dependent_5  \\\n",
      "0     1          P1          P3          P6          P7         P10   \n",
      "1     2          P1          P2          P4          P5          P8   \n",
      "2     3          P2          P3          P7          P8          P9   \n",
      "3     4          P3          P4          P8         NaN         NaN   \n",
      "4     5          P2          P4          P6          P7          P9   \n",
      "\n",
      "  dependent_6  \n",
      "0         NaN  \n",
      "1          P9  \n",
      "2         NaN  \n",
      "3         NaN  \n",
      "4         P10  \n"
     ]
    }
   ],
   "source": [
    "#I don't know if this is an effective way to do this, but I want to know which Products each tech dependency is a dependency for\n",
    "# so I'm going to create lists to contain this information\n",
    "\n",
    "product_list = rice_scores['product'].tolist()\n",
    "tech_dep_1_list = []\n",
    "tech_dep_2_list = []\n",
    "tech_dep_3_list = []\n",
    "tech_dep_4_list = []\n",
    "tech_dep_5_list = []\n",
    "tech_deps_lists = [tech_dep_1_list, tech_dep_2_list, tech_dep_3_list, tech_dep_4_list, tech_dep_5_list]\n",
    "for i in range(5):\n",
    "    for j in range(len(rice_scores)):\n",
    "        if rice_scores.loc[j, 'main_tech_dep'] == i+1 or rice_scores.loc[j, 'tech_dep_2'] == i+1 or rice_scores.loc[j, 'tech_dep_3'] == i+1:\n",
    "            tech_deps_lists[i].append(product_list[j])\n",
    "\n",
    "#tech_to_products_dict = {'tech_dep_1':tech_dep_1_list, 'tech_dep_2':tech_dep_2_list, 'tech_dep_3':tech_dep_3_list,  \n",
    "                         #'tech_dep_4':tech_dep_4_list, 'tech_dep_5':tech_dep_5_list,}\n",
    "# max_length = 0\n",
    "# for col in tech_to_products_dict.values():\n",
    "#     if len(col) > max_length:\n",
    "#         max_length = len(col)\n",
    "\n",
    "# for col in tech_to_products_dict.values():\n",
    "#     for _ in range(max_length - len(col)):\n",
    "#         col.append(np.nan)\n",
    "\n",
    "max_length = 0\n",
    "for list in tech_deps_lists:\n",
    "    if len(list) > max_length:\n",
    "        max_length = len(list)\n",
    "\n",
    "for list in tech_deps_lists:\n",
    "    for _ in range(max_length - len(list)):\n",
    "        list.append(np.nan)\n",
    "\n",
    "tech_to_products_dict = {'tech': [1, 2, 3, 4, 5],\n",
    "                         'dependent_1':[tech_dep_1_list[0], tech_dep_2_list[0], tech_dep_3_list[0], tech_dep_4_list[0], tech_dep_5_list[0]],\n",
    "                         'dependent_2':[tech_dep_1_list[1], tech_dep_2_list[1], tech_dep_3_list[1], tech_dep_4_list[1], tech_dep_5_list[1]],\n",
    "                         'dependent_3':[tech_dep_1_list[2], tech_dep_2_list[2], tech_dep_3_list[2], tech_dep_4_list[2], tech_dep_5_list[2]],\n",
    "                         'dependent_4':[tech_dep_1_list[3], tech_dep_2_list[3], tech_dep_3_list[3], tech_dep_4_list[3], tech_dep_5_list[3]],\n",
    "                         'dependent_5': [tech_dep_1_list[4], tech_dep_2_list[4], tech_dep_3_list[4], tech_dep_4_list[4], tech_dep_5_list[4]],\n",
    "                         'dependent_6': [tech_dep_1_list[5], tech_dep_2_list[5], tech_dep_3_list[5], tech_dep_4_list[5], tech_dep_5_list[5]]}\n",
    "\n",
    "tech_to_product = pd.DataFrame.from_dict(tech_to_products_dict)\n",
    "print(tech_to_product)"
   ]
  },
  {
   "cell_type": "markdown",
   "id": "da2c1d1b-726c-4400-acdc-2b067e9c23da",
   "metadata": {},
   "source": [
    "Next, we are going to define a handful of possible scores that we can use to rank the tech priorities. Here, to simplify things, I've randomly generated numbers 1-5 to stand in for the tech dependencies. The goal is to create a third DataFrame, indexed by the tech dependencies with different possible rankings as the columns.\n",
    "\n",
    "For ease of writing, assume that tech dependency _n_ appears as a dependency for P1, P2, and P3. We'll create functions for each of the following rank formulas:\n",
    "\n",
    "$$rank_1(1) = RICE(P1) + RICE(P2) + RICE(P3)$$\n",
    "$$rank_2(n) = \\frac{(R_1 \\times I_1 \\times C_1) + (R_2 \\times I_2 \\times C_2) + (R_3 \\times I_3 \\times C_3)}{E_1 + E_2 + E_3}$$ \n",
    "$$rank_3(n) = \\frac{(R_1 + R_2 + R_3) \\times (I_1 + I_2 + I_3) \\times (Avg(C_1, C_2, C_3))}{E_1 + E_2 + E_3}$$\n",
    "$$rank_4(n) = \\frac{(R_1 + R_2 + R_3) \\times (I_1 + I_2 + I_3) \\times (Min(C_1, C_2, C_3))}{E_1 + E_2 + E_3}$$\n",
    "$$rank_5(n) = \\frac{(R_1 \\times R_2 \\times R_3) \\times (I_1 \\times I_2 \\times I_3) \\times (Avg(C_1, C_2, C_3))}{E_1 \\times E_2 \\times E_3} \\times 10^{-7}$$\n",
    "$$rank_6(n) = \\frac{(R_1 \\times R_2 \\times R_3) \\times (I_1 \\times I_2 \\times I_3) \\times (Min(C_1, C_2, C_3))}{E_1 \\times E_2 \\times E_3} \\times 10^{-7}$$"
   ]
  },
  {
   "cell_type": "code",
   "execution_count": 300,
   "id": "83c71f4d-d604-415b-843c-370968b27848",
   "metadata": {},
   "outputs": [
    {
     "name": "stdout",
     "output_type": "stream",
     "text": [
      "565.6666666666666\n"
     ]
    }
   ],
   "source": [
    "#Defining the rank_1 function\n",
    "def rank_1(num):\n",
    "    score = 0\n",
    "    for i in range(len(rice_scores)):\n",
    "        if rice_scores.loc[i, 'main_tech_dep'] == num or rice_scores.loc[i, 'tech_dep_2'] == num or rice_scores.loc[i, 'tech_dep_3'] == num:\n",
    "                score += rice_scores.loc[i, \"RICE\"]\n",
    "    return score\n",
    "\n",
    "print(rank_1(1))"
   ]
  },
  {
   "cell_type": "code",
   "execution_count": 301,
   "id": "d7b83d91-c184-4014-8a9c-3b709bc56232",
   "metadata": {},
   "outputs": [
    {
     "name": "stdout",
     "output_type": "stream",
     "text": [
      "85.5\n",
      "85.5\n"
     ]
    }
   ],
   "source": [
    "#defining the rank_2 function\n",
    "def rank_2(num):\n",
    "    numerator = 0\n",
    "    denominator = 0\n",
    "    for i in range(len(rice_scores)):\n",
    "        if rice_scores.loc[i, 'main_tech_dep'] == num or rice_scores.loc[i, 'tech_dep_2'] == num or rice_scores.loc[i, 'tech_dep_3'] == num:\n",
    "                numerator += (rice_scores.loc[i, 'reach']*rice_scores.loc[i, 'impact']*rice_scores.loc[i, 'confidence'])\n",
    "                denominator += rice_scores.loc[i, 'effort']\n",
    "    return numerator/denominator\n",
    "\n",
    "#check rank_2(1) \"by hand\"\n",
    "rank_2_1 = ((170*1*0.8)+(220*3*0.5)+(80*3*0.5)+(300*1*0.8)+(200*2*0.5))/(4+2+2+1+3)\n",
    "print(rank_2_1)\n",
    "\n",
    "#check it against the function\n",
    "print(rank_2(1))"
   ]
  },
  {
   "cell_type": "code",
   "execution_count": 302,
   "id": "0e8a24f5-99b6-47dd-bd61-9cdbd45a4f24",
   "metadata": {},
   "outputs": [
    {
     "name": "stdout",
     "output_type": "stream",
     "text": [
      "501.1666666666667\n",
      "501.1666666666667\n"
     ]
    }
   ],
   "source": [
    "#defining the rank_3 function\n",
    "def rank_3(num):\n",
    "    reach = 0\n",
    "    impact = 0\n",
    "    confidence = []\n",
    "    effort = 0\n",
    "    for i in range(len(rice_scores)):\n",
    "        if rice_scores.loc[i, 'main_tech_dep'] == num or rice_scores.loc[i, 'tech_dep_2'] == num or rice_scores.loc[i, 'tech_dep_3'] == num:\n",
    "            reach = reach + rice_scores.loc[i, 'reach']\n",
    "            impact = impact + rice_scores.loc[i, 'impact']\n",
    "            confidence.append(rice_scores.loc[i, 'confidence'])\n",
    "            effort = effort + rice_scores.loc[i, 'effort']\n",
    "    return (reach*impact*statistics.mean(confidence))/effort\n",
    "\n",
    "#check rank_3(1) \"by hand\"\n",
    "rank_3_1 = ((170+220+80+300+200)*(1+3+3+1+2)*0.62)/(4+2+2+1+3)\n",
    "print(rank_3_1)\n",
    "\n",
    "#check it against the function\n",
    "print(rank_3(1))"
   ]
  },
  {
   "cell_type": "code",
   "execution_count": 303,
   "id": "7525c2df-930e-432c-bfd6-3be7253335d8",
   "metadata": {},
   "outputs": [
    {
     "name": "stdout",
     "output_type": "stream",
     "text": [
      "404.1666666666667\n",
      "404.1666666666667\n"
     ]
    }
   ],
   "source": [
    "#defining the rank_4 function\n",
    "def rank_4(num):\n",
    "    reach = 0\n",
    "    impact = 0\n",
    "    confidence = []\n",
    "    effort = 0\n",
    "    for i in range(len(rice_scores)):\n",
    "        if rice_scores.loc[i, 'main_tech_dep'] == num or rice_scores.loc[i, 'tech_dep_2'] == num or rice_scores.loc[i, 'tech_dep_3'] == num:\n",
    "            reach = reach + rice_scores.loc[i, 'reach']\n",
    "            impact = impact + rice_scores.loc[i, 'impact']\n",
    "            confidence.append(rice_scores.loc[i, 'confidence'])\n",
    "            effort = effort + rice_scores.loc[i, 'effort']\n",
    "    return (reach*impact*min(confidence))/effort\n",
    "\n",
    "#check rank_4(1) \"by hand\"\n",
    "rank_4_1 = ((170+220+80+300+200)*(1+3+3+1+2)*0.5)/(4+2+2+1+3)\n",
    "print(rank_4_1)\n",
    "\n",
    "#check it against the function\n",
    "print(rank_4(1))"
   ]
  },
  {
   "cell_type": "code",
   "execution_count": 304,
   "id": "b8ce59d6-4705-4be8-ae3d-31cd0698f018",
   "metadata": {},
   "outputs": [
    {
     "name": "stdout",
     "output_type": "stream",
     "text": [
      "4173.84\n",
      "4173.84\n"
     ]
    }
   ],
   "source": [
    "#defining the rank_5 function\n",
    "def rank_5(num):\n",
    "    reach = 1\n",
    "    impact = 1\n",
    "    confidence = []\n",
    "    effort = 1\n",
    "    for i in range(len(rice_scores)):\n",
    "        if rice_scores.loc[i, 'main_tech_dep'] == num or rice_scores.loc[i, 'tech_dep_2'] == num or rice_scores.loc[i, 'tech_dep_3'] == num:\n",
    "            reach = reach * rice_scores.loc[i, 'reach']\n",
    "            impact = impact * rice_scores.loc[i, 'impact']\n",
    "            confidence.append(rice_scores.loc[i, 'confidence'])\n",
    "            effort = effort * rice_scores.loc[i, 'effort']\n",
    "    return (reach*impact*statistics.mean(confidence))/(effort*10**7)\n",
    "\n",
    "#check rank_5(1) \"by hand\"\n",
    "rank_5_1 = ((170*220*80*300*200)*(1*3*3*1*2)*0.62)/((4*2*2*1*3*10**7))\n",
    "print(rank_5_1)\n",
    "\n",
    "#check it against the function\n",
    "print(rank_5(1))"
   ]
  },
  {
   "cell_type": "code",
   "execution_count": 305,
   "id": "708e3040-9c04-4085-ab68-f7c74afc4e23",
   "metadata": {},
   "outputs": [
    {
     "name": "stdout",
     "output_type": "stream",
     "text": [
      "3366.0\n",
      "3366.0\n"
     ]
    }
   ],
   "source": [
    "#defining the rank_6 function\n",
    "def rank_6(num):\n",
    "    reach = 1\n",
    "    impact = 1\n",
    "    confidence = []\n",
    "    effort = 1\n",
    "    for i in range(len(rice_scores)):\n",
    "        if rice_scores.loc[i, 'main_tech_dep'] == num or rice_scores.loc[i, 'tech_dep_2'] == num or rice_scores.loc[i, 'tech_dep_3'] == num:\n",
    "            reach = reach * rice_scores.loc[i, 'reach']\n",
    "            impact = impact * rice_scores.loc[i, 'impact']\n",
    "            confidence.append(rice_scores.loc[i, 'confidence'])\n",
    "            effort = effort * rice_scores.loc[i, 'effort']\n",
    "    return (reach*impact*min(confidence))/(effort*10**7)\n",
    "\n",
    "#check rank_6(1) \"by hand\"\n",
    "rank_6_1 = ((170*220*80*300*200)*(1*3*3*1*2)*0.5)/((4*2*2*1*3*10**7))\n",
    "print(rank_6_1)\n",
    "\n",
    "#check it against the function\n",
    "print(rank_6(1))"
   ]
  },
  {
   "cell_type": "code",
   "execution_count": 306,
   "id": "810dd354-8789-4398-9e02-6d2c9ff2f373",
   "metadata": {},
   "outputs": [
    {
     "name": "stdout",
     "output_type": "stream",
     "text": [
      "   tech_dep      rank_1      rank_2      rank_3      rank_4        rank_5  \\\n",
      "0         1  565.666667   85.500000  501.166667  404.166667  4.173840e+03   \n",
      "1         2  535.616667   64.575000  563.853571  320.025000  9.704571e+06   \n",
      "2         3  595.750000  108.833333  599.733333  346.000000  9.266400e+03   \n",
      "3         4  256.200000   62.250000  202.666667  114.000000  1.013760e-01   \n",
      "4         5  504.616667   62.093750  475.312500  396.093750  5.184000e+04   \n",
      "\n",
      "         rank_6  \n",
      "0  3.366000e+03  \n",
      "1  5.508000e+06  \n",
      "2  5.346000e+03  \n",
      "3  5.702400e-02  \n",
      "4  4.320000e+04  \n"
     ]
    }
   ],
   "source": [
    "#Defining a new DataFrame\n",
    "#I had trouble adding the columns by doing tech_deps['rank_1'] = ... so here I'm creating a dictionary where columns for each rank function\n",
    "\n",
    "#create a list with rank_i(n) for i = 1,..., 6 and n = 1,..., 5\n",
    "rank_1_list = []\n",
    "rank_2_list = []\n",
    "rank_3_list = []\n",
    "rank_4_list = []\n",
    "rank_5_list = []\n",
    "rank_6_list = []\n",
    "for i in [1, 2, 3, 4, 5]:\n",
    "    rank_1_list.append(rank_1(i))\n",
    "    rank_2_list.append(rank_2(i))\n",
    "    rank_3_list.append(rank_3(i))\n",
    "    rank_4_list.append(rank_4(i))\n",
    "    rank_5_list.append(rank_5(i))\n",
    "    rank_6_list.append(rank_6(i))\n",
    "\n",
    "tech_deps_dict = {'tech_dep':[1,2,3,4,5], 'rank_1':rank_1_list, 'rank_2':rank_2_list, 'rank_3':rank_3_list,\n",
    "                 'rank_4':rank_4_list, 'rank_5':rank_5_list, 'rank_6':rank_6_list,}\n",
    "\n",
    "tech_deps = pd.DataFrame.from_dict(tech_deps_dict)\n",
    "print(tech_deps)"
   ]
  },
  {
   "cell_type": "code",
   "execution_count": 307,
   "id": "19071507-e1d8-4123-ae86-9b40a7ef8a67",
   "metadata": {},
   "outputs": [
    {
     "name": "stdout",
     "output_type": "stream",
     "text": [
      "  product  reach  impact  confidence  effort        RICE  main_tech_dep  \\\n",
      "0      P1    170       1         0.8       4   34.000000              1   \n",
      "1      P2    200       3         0.5       3  100.000000              2   \n",
      "2      P3    220       3         0.5       2  165.000000              1   \n",
      "3      P4     40       3         0.8       5   19.200000              4   \n",
      "4      P5    500       3         0.3       2  225.000000              2   \n",
      "5      P6     80       3         0.5       2   60.000000              1   \n",
      "6      P7    300       1         0.8       1  240.000000              5   \n",
      "7      P8    120       2         0.3       1   72.000000              3   \n",
      "8      P9     25       3         0.5       2   18.750000              5   \n",
      "9     P10    200       2         0.5       3   66.666667              5   \n",
      "\n",
      "   tech_dep_2  tech_dep_3  \n",
      "0         2.0         NaN  \n",
      "1         5.0         3.0  \n",
      "2         3.0         4.0  \n",
      "3         5.0         2.0  \n",
      "4         NaN         NaN  \n",
      "5         5.0         NaN  \n",
      "6         3.0         1.0  \n",
      "7         2.0         4.0  \n",
      "8         3.0         2.0  \n",
      "9         2.0         1.0  \n",
      "   tech dependent_1 dependent_2 dependent_3 dependent_4 dependent_5  \\\n",
      "0     1          P1          P3          P6          P7         P10   \n",
      "1     2          P1          P2          P4          P5          P8   \n",
      "2     3          P2          P3          P7          P8          P9   \n",
      "3     4          P3          P4          P8         NaN         NaN   \n",
      "4     5          P2          P4          P6          P7          P9   \n",
      "\n",
      "  dependent_6  \n",
      "0         NaN  \n",
      "1          P9  \n",
      "2         NaN  \n",
      "3         NaN  \n",
      "4         P10  \n",
      "   tech_dep      rank_1      rank_2      rank_3      rank_4        rank_5  \\\n",
      "0         1  565.666667   85.500000  501.166667  404.166667  4.173840e+03   \n",
      "1         2  535.616667   64.575000  563.853571  320.025000  9.704571e+06   \n",
      "2         3  595.750000  108.833333  599.733333  346.000000  9.266400e+03   \n",
      "3         4  256.200000   62.250000  202.666667  114.000000  1.013760e-01   \n",
      "4         5  504.616667   62.093750  475.312500  396.093750  5.184000e+04   \n",
      "\n",
      "         rank_6  \n",
      "0  3.366000e+03  \n",
      "1  5.508000e+06  \n",
      "2  5.346000e+03  \n",
      "3  5.702400e-02  \n",
      "4  4.320000e+04  \n"
     ]
    }
   ],
   "source": [
    "#Gathering all my tables in one place for ease of reference\n",
    "print(rice_scores)\n",
    "print(tech_to_product)\n",
    "print(tech_deps)"
   ]
  },
  {
   "cell_type": "code",
   "execution_count": 308,
   "id": "e01404c3-530a-49ea-b04a-b9101fb496ae",
   "metadata": {},
   "outputs": [],
   "source": [
    "#I'm finding I need some summary statistics in the tech_to_product table to help make sense of the rankings. Let's try to add those.\n",
    "\n",
    "def total_tech_reach(num):\n",
    "    total = 0\n",
    "    for i in range(len(rice_scores)):\n",
    "        if rice_scores.loc[i, 'main_tech_dep'] == num or rice_scores.loc[i, 'tech_dep_2'] == num or rice_scores.loc[i, 'tech_dep_3'] == num:\n",
    "                total += rice_scores.loc[i, \"reach\"]\n",
    "    return total    \n",
    "\n",
    "def total_tech_impact(num):\n",
    "    total = 0\n",
    "    for i in range(len(rice_scores)):\n",
    "        if rice_scores.loc[i, 'main_tech_dep'] == num or rice_scores.loc[i, 'tech_dep_2'] == num or rice_scores.loc[i, 'tech_dep_3'] == num:\n",
    "                total += rice_scores.loc[i, \"impact\"]\n",
    "    return total\n",
    "\n",
    "def avg_tech_confidence(num):\n",
    "    list = []\n",
    "    for i in range(len(rice_scores)):\n",
    "        if rice_scores.loc[i, 'main_tech_dep'] == num or rice_scores.loc[i, 'tech_dep_2'] == num or rice_scores.loc[i, 'tech_dep_3'] == num:\n",
    "            list.append(rice_scores.loc[i, 'confidence'])\n",
    "    return statistics.mean(list)\n",
    "\n",
    "def min_tech_confidence(num):\n",
    "    list = []\n",
    "    for i in range(len(rice_scores)):\n",
    "        if rice_scores.loc[i, 'main_tech_dep'] == num or rice_scores.loc[i, 'tech_dep_2'] == num or rice_scores.loc[i, 'tech_dep_3'] == num:\n",
    "            list.append(rice_scores.loc[i, 'confidence'])\n",
    "    return min(list)\n",
    "\n",
    "def total_tech_effort(num):\n",
    "    total = 0\n",
    "    for i in range(len(rice_scores)):\n",
    "        if rice_scores.loc[i, 'main_tech_dep'] == num or rice_scores.loc[i, 'tech_dep_2'] == num or rice_scores.loc[i, 'tech_dep_3'] == num:\n",
    "                total += rice_scores.loc[i, \"effort\"]\n",
    "    return total"
   ]
  },
  {
   "cell_type": "code",
   "execution_count": 309,
   "id": "1307c7b9-a954-45c5-adbd-9d9be8b9b873",
   "metadata": {},
   "outputs": [
    {
     "name": "stdout",
     "output_type": "stream",
     "text": [
      "   tech dependent_1 dependent_2 dependent_3 dependent_4 dependent_5  \\\n",
      "0     1          P1          P3          P6          P7         P10   \n",
      "1     2          P1          P2          P4          P5          P8   \n",
      "2     3          P2          P3          P7          P8          P9   \n",
      "3     4          P3          P4          P8         NaN         NaN   \n",
      "4     5          P2          P4          P6          P7          P9   \n",
      "\n",
      "  dependent_6  total_reach  total_impact  avg_confidence  min_confidence  \\\n",
      "0         NaN          970            10        0.620000             0.5   \n",
      "1          P9         1255            17        0.528571             0.3   \n",
      "2         NaN          865            12        0.520000             0.3   \n",
      "3         NaN          380             8        0.533333             0.3   \n",
      "4         P10          845            15        0.600000             0.5   \n",
      "\n",
      "   total_effort  \n",
      "0            12  \n",
      "1            20  \n",
      "2             9  \n",
      "3             8  \n",
      "4            16  \n"
     ]
    }
   ],
   "source": [
    "#Add columns to tech_to_product sheet\n",
    "tech_to_product['total_reach'] = tech_to_product['tech'].apply(total_tech_reach)\n",
    "\n",
    "tech_to_product['total_impact'] = tech_to_product['tech'].apply(total_tech_impact)\n",
    "\n",
    "tech_to_product['avg_confidence'] = tech_to_product['tech'].apply(avg_tech_confidence)\n",
    "\n",
    "tech_to_product['min_confidence'] = tech_to_product['tech'].apply(min_tech_confidence)\n",
    "\n",
    "tech_to_product['total_effort'] = tech_to_product['tech'].apply(total_tech_effort)\n",
    "\n",
    "print(tech_to_product)"
   ]
  },
  {
   "cell_type": "code",
   "execution_count": 310,
   "id": "6e2275c8-3ea6-4068-8d3d-1fc6b3b7805f",
   "metadata": {},
   "outputs": [],
   "source": [
    "#export the DataFrame to csv files\n",
    "rice_scores.to_csv('rice_scores.csv', index = False)\n",
    "tech_to_product.to_csv('tech_to_product.csv', index = False)\n",
    "tech_deps.to_csv('tech_deps.csv', index=False)"
   ]
  },
  {
   "cell_type": "code",
   "execution_count": 314,
   "id": "792e9284-5af3-4e66-9794-664ba903c24d",
   "metadata": {},
   "outputs": [
    {
     "name": "stdout",
     "output_type": "stream",
     "text": [
      "330.0\n",
      "2\n",
      "96.0\n",
      "5\n",
      "72.0\n",
      "1\n"
     ]
    }
   ],
   "source": [
    "# doing rank_2(4) 'by hand' to figure out how it shrinks less than rank_2(5)\n",
    "\n",
    "rice_numerator_3 = rice_scores.loc[2, 'reach']*rice_scores.loc[2, 'impact']*rice_scores.loc[2,'confidence']\n",
    "print(rice_numerator_3)\n",
    "print(rice_scores.loc[2,'effort'])\n",
    "\n",
    "rice_numerator_4  = rice_scores.loc[3, 'reach']*rice_scores.loc[3, 'impact']*rice_scores.loc[3,'confidence']\n",
    "print(rice_numerator_4)\n",
    "print(rice_scores.loc[3,'effort'])\n",
    "\n",
    "rice_numerator_8 = rice_scores.loc[7, 'reach']*rice_scores.loc[7, 'impact']*rice_scores.loc[7,'confidence']\n",
    "print(rice_numerator_8)\n",
    "print(rice_scores.loc[7,'effort'])"
   ]
  },
  {
   "cell_type": "code",
   "execution_count": 313,
   "id": "50a097ab-5574-451e-9c80-d2834b84bfa1",
   "metadata": {},
   "outputs": [
    {
     "name": "stdout",
     "output_type": "stream",
     "text": [
      "300.0\n",
      "3\n",
      "96.0\n",
      "5\n",
      "120.0\n",
      "2\n",
      "240.0\n",
      "1\n",
      "37.5\n",
      "2\n",
      "200.0\n",
      "3\n"
     ]
    }
   ],
   "source": [
    "# doing rank_2(5) 'by hand' to figure out why it shrinks so much\n",
    "\n",
    "rice_numerator_2  = rice_scores.loc[1, 'reach']*rice_scores.loc[1, 'impact']*rice_scores.loc[1,'confidence']\n",
    "print(rice_numerator_2)\n",
    "print(rice_scores.loc[1,'effort'])\n",
    "\n",
    "rice_numerator_4  = rice_scores.loc[3, 'reach']*rice_scores.loc[3, 'impact']*rice_scores.loc[3,'confidence']\n",
    "print(rice_numerator_4)\n",
    "print(rice_scores.loc[3,'effort'])\n",
    "\n",
    "rice_numerator_6  = rice_scores.loc[5, 'reach']*rice_scores.loc[5, 'impact']*rice_scores.loc[5,'confidence']\n",
    "print(rice_numerator_6)\n",
    "print(rice_scores.loc[5,'effort'])\n",
    "\n",
    "rice_numerator_7  = rice_scores.loc[6, 'reach']*rice_scores.loc[6, 'impact']*rice_scores.loc[6,'confidence']\n",
    "print(rice_numerator_7)\n",
    "print(rice_scores.loc[6,'effort'])\n",
    "\n",
    "rice_numerator_9  = rice_scores.loc[8, 'reach']*rice_scores.loc[8, 'impact']*rice_scores.loc[8,'confidence']\n",
    "print(rice_numerator_9)\n",
    "print(rice_scores.loc[8,'effort'])\n",
    "\n",
    "rice_numerator_10  = rice_scores.loc[9, 'reach']*rice_scores.loc[9, 'impact']*rice_scores.loc[9,'confidence']\n",
    "print(rice_numerator_10)\n",
    "print(rice_scores.loc[9,'effort'])"
   ]
  }
 ],
 "metadata": {
  "kernelspec": {
   "display_name": "Python 3 (ipykernel)",
   "language": "python",
   "name": "python3"
  },
  "language_info": {
   "codemirror_mode": {
    "name": "ipython",
    "version": 3
   },
   "file_extension": ".py",
   "mimetype": "text/x-python",
   "name": "python",
   "nbconvert_exporter": "python",
   "pygments_lexer": "ipython3",
   "version": "3.9.2"
  }
 },
 "nbformat": 4,
 "nbformat_minor": 5
}
